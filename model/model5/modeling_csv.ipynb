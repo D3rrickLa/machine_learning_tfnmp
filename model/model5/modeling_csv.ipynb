{
 "cells": [
  {
   "cell_type": "code",
   "execution_count": 2,
   "metadata": {},
   "outputs": [],
   "source": [
    "import cv2\n",
    "import mediapipe as mp\n",
    "import numpy as np\n",
    "import time"
   ]
  },
  {
   "cell_type": "code",
   "execution_count": 3,
   "metadata": {},
   "outputs": [],
   "source": [
    "mp_hands = mp.solutions.hands\n",
    "hands = mp_hands.Hands(max_num_hands=2)\n",
    "mp_drawing = mp.solutions.drawing_utils"
   ]
  },
  {
   "cell_type": "code",
   "execution_count": 4,
   "metadata": {},
   "outputs": [
    {
     "name": "stdout",
     "output_type": "stream",
     "text": [
      "Recording started...\n",
      "Recording stopped.\n"
     ]
    },
    {
     "ename": "Error",
     "evalue": "iterable expected, not int",
     "output_type": "error",
     "traceback": [
      "\u001b[1;31m---------------------------------------------------------------------------\u001b[0m",
      "\u001b[1;31mError\u001b[0m                                     Traceback (most recent call last)",
      "Cell \u001b[1;32mIn[4], line 67\u001b[0m\n\u001b[0;32m     64\u001b[0m     cap\u001b[38;5;241m.\u001b[39mrelease()\n\u001b[0;32m     65\u001b[0m     cv2\u001b[38;5;241m.\u001b[39mdestroyAllWindows()\n\u001b[1;32m---> 67\u001b[0m \u001b[43mrecord_hand_landmarks\u001b[49m\u001b[43m(\u001b[49m\u001b[43m)\u001b[49m\n",
      "Cell \u001b[1;32mIn[4], line 58\u001b[0m, in \u001b[0;36mrecord_hand_landmarks\u001b[1;34m()\u001b[0m\n\u001b[0;32m     56\u001b[0m             \u001b[38;5;66;03m# write data\u001b[39;00m\n\u001b[0;32m     57\u001b[0m             \u001b[38;5;28;01mfor\u001b[39;00m i, frame_data \u001b[38;5;129;01min\u001b[39;00m \u001b[38;5;28menumerate\u001b[39m(landmarks_seq):\n\u001b[1;32m---> 58\u001b[0m                 \u001b[43mwriter\u001b[49m\u001b[38;5;241;43m.\u001b[39;49m\u001b[43mwriterows\u001b[49m\u001b[43m(\u001b[49m\u001b[43m[\u001b[49m\u001b[43mi\u001b[49m\u001b[43m]\u001b[49m\u001b[38;5;241;43m+\u001b[39;49m\u001b[43mframe_data\u001b[49m\u001b[43m)\u001b[49m\n\u001b[0;32m     60\u001b[0m         \u001b[38;5;28mprint\u001b[39m(\u001b[38;5;124mf\u001b[39m\u001b[38;5;124m\"\u001b[39m\u001b[38;5;124mSaved \u001b[39m\u001b[38;5;132;01m{\u001b[39;00m\u001b[38;5;28mlen\u001b[39m(landmarks_seq)\u001b[38;5;132;01m}\u001b[39;00m\u001b[38;5;124m frames to \u001b[39m\u001b[38;5;132;01m{\u001b[39;00moutput_file\u001b[38;5;132;01m}\u001b[39;00m\u001b[38;5;124m\"\u001b[39m)\n\u001b[0;32m     61\u001b[0m \u001b[38;5;28;01melif\u001b[39;00m (key \u001b[38;5;241m==\u001b[39m \u001b[38;5;241m27\u001b[39m) \u001b[38;5;129;01mor\u001b[39;00m (key \u001b[38;5;241m==\u001b[39m \u001b[38;5;28mord\u001b[39m(\u001b[38;5;124m'\u001b[39m\u001b[38;5;124mq\u001b[39m\u001b[38;5;124m'\u001b[39m)):  \u001b[38;5;66;03m# ESC key to exit\u001b[39;00m\n",
      "\u001b[1;31mError\u001b[0m: iterable expected, not int"
     ]
    }
   ],
   "source": [
    "import csv\n",
    "import os\n",
    "\n",
    "# Directory to save CSV files\n",
    "output_dir = '.\\data\\dataset4'\n",
    "os.makedirs(output_dir, exist_ok=True)\n",
    "\n",
    "gesture_action = \"WAVING\"\n",
    "\n",
    "# Function to record hand landmarks\n",
    "def record_hand_landmarks():\n",
    "    cap = cv2.VideoCapture(0)\n",
    "    recording = False\n",
    "    landmarks_seq = []\n",
    "\n",
    "    while cap.isOpened():\n",
    "        ret, frame = cap.read()\n",
    "        if not ret:\n",
    "            break\n",
    "\n",
    "        frame_rgb = cv2.cvtColor(frame, cv2.COLOR_BGR2RGB)\n",
    "        results = hands.process(frame_rgb)\n",
    "\n",
    "        frame = cv2.cvtColor(frame_rgb, cv2.COLOR_RGB2BGR)\n",
    "        if results.multi_hand_landmarks:\n",
    "            for hand_landmarks in results.multi_hand_landmarks:\n",
    "                mp_drawing.draw_landmarks(frame, hand_landmarks, mp_hands.HAND_CONNECTIONS)\n",
    "                if recording:\n",
    "                    # Extract landmarks\n",
    "                    landmarks = [lm for lm in hand_landmarks.landmark]\n",
    "                    landmarks_flat = [coord for lm in landmarks for coord in (lm.x, lm.y, lm.z)]\n",
    "                    landmarks_seq.append(landmarks_flat)\n",
    "\n",
    "        cv2.imshow('Hand Gesture Recording', frame)\n",
    "\n",
    "        key = cv2.waitKey(5) & 0xFF\n",
    "        if key == ord('r'):\n",
    "            recording = True\n",
    "            landmarks_seq = []  # Start a new recording\n",
    "            print(\"Recording started...\")\n",
    "        elif key == ord('s'):\n",
    "            recording = False\n",
    "            print(\"Recording stopped.\")\n",
    "            if landmarks_seq:\n",
    "                # Save to CSV\n",
    "                gesture_name = gesture_action\n",
    "                current_time = int(time.time())\n",
    "\n",
    "                output_file = os.path.join(output_dir, f'{gesture_name}_{current_time}.csv')\n",
    "                with open(output_file, 'w', newline='') as f:\n",
    "                    writer = csv.writer(f)\n",
    "                    # header \n",
    "                    header = ['frame'] + [f'{coord}_{i}' for i in range(21) for coord in ('x', 'y', 'z')]\n",
    "                    writer.writerow(header)\n",
    "\n",
    "                    # write data\n",
    "                    for i, frame_data in enumerate(landmarks_seq):\n",
    "                        writer.writerow([i] + frame_data)\n",
    "                        \n",
    "                print(f\"Saved {len(landmarks_seq)} frames to {output_file}\")\n",
    "        elif (key == 27) or (key == ord('q')):  # ESC key to exit\n",
    "            break\n",
    "\n",
    "    cap.release()\n",
    "    cv2.destroyAllWindows()\n",
    "\n",
    "record_hand_landmarks()"
   ]
  }
 ],
 "metadata": {
  "kernelspec": {
   "display_name": "ml_model",
   "language": "python",
   "name": "python3"
  },
  "language_info": {
   "codemirror_mode": {
    "name": "ipython",
    "version": 3
   },
   "file_extension": ".py",
   "mimetype": "text/x-python",
   "name": "python",
   "nbconvert_exporter": "python",
   "pygments_lexer": "ipython3",
   "version": "3.10.6"
  }
 },
 "nbformat": 4,
 "nbformat_minor": 2
}
