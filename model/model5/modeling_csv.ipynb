{
 "cells": [
  {
   "cell_type": "code",
   "execution_count": 5,
   "metadata": {},
   "outputs": [],
   "source": [
    "import cv2\n",
    "import mediapipe as mp\n",
    "import numpy as np\n",
    "import time"
   ]
  },
  {
   "cell_type": "code",
   "execution_count": 6,
   "metadata": {},
   "outputs": [],
   "source": [
    "mp_hands = mp.solutions.hands\n",
    "hands = mp_hands.Hands(max_num_hands=2)\n",
    "mp_drawing = mp.solutions.drawing_utils"
   ]
  },
  {
   "cell_type": "code",
   "execution_count": 8,
   "metadata": {},
   "outputs": [
    {
     "name": "stdout",
     "output_type": "stream",
     "text": [
      "Recording started...\n",
      "Recording stopped.\n",
      "Saved 47 frames to ./data/test\\WAVING_1719272972.csv\n"
     ]
    }
   ],
   "source": [
    "import csv\n",
    "import os\n",
    "\n",
    "# Directory to save CSV files\n",
    "output_dir = './data/test'\n",
    "os.makedirs(output_dir, exist_ok=True)\n",
    "\n",
    "gesture_action = \"WAVING\"\n",
    "\n",
    "# Function to record hand landmarks\n",
    "def record_hand_landmarks():\n",
    "    cap = cv2.VideoCapture(0)\n",
    "    recording = False\n",
    "    landmarks_seq = []\n",
    "\n",
    "    frame_rate = cap.get(cv2.CAP_PROP_FPS)\n",
    "    frame_width = cap.get(cv2.CAP_PROP_FRAME_WIDTH)\n",
    "    frame_height = cap.get(cv2.CAP_PROP_FRAME_HEIGHT)\n",
    "\n",
    "    while cap.isOpened():\n",
    "        ret, frame = cap.read()\n",
    "        if not ret:\n",
    "            break\n",
    "\n",
    "        frame_rgb = cv2.cvtColor(frame, cv2.COLOR_BGR2RGB)\n",
    "        results = hands.process(frame_rgb)\n",
    "\n",
    "        frame = cv2.cvtColor(frame_rgb, cv2.COLOR_RGB2BGR)\n",
    "        if results.multi_hand_landmarks:\n",
    "            for hand_landmarks in results.multi_hand_landmarks:\n",
    "                mp_drawing.draw_landmarks(frame, hand_landmarks, mp_hands.HAND_CONNECTIONS)\n",
    "                if recording:\n",
    "                    # Extract landmarks\n",
    "                    landmarks = [lm for lm in hand_landmarks.landmark]\n",
    "                    landmarks_flat = [coord for lm in landmarks for coord in (lm.x, lm.y, lm.z)]\n",
    "                    landmarks_seq.append(landmarks_flat)\n",
    "\n",
    "        cv2.imshow('Hand Gesture Recording', frame)\n",
    "\n",
    "        key = cv2.waitKey(5) & 0xFF\n",
    "        if key == ord('r'):\n",
    "            recording = True\n",
    "            landmarks_seq = []  # Start a new recording\n",
    "            print(\"Recording started...\")\n",
    "        elif key == ord('s'):\n",
    "            recording = False\n",
    "            print(\"Recording stopped.\")\n",
    "            if landmarks_seq:\n",
    "                # Save to CSV\n",
    "                gesture_name = gesture_action\n",
    "                current_time = int(time.time())\n",
    "\n",
    "                output_file = os.path.join(output_dir, f'{gesture_name}_{current_time}.csv')\n",
    "                with open(output_file, 'w', newline='') as f:\n",
    "                    writer = csv.writer(f)\n",
    "                    # header \n",
    "                    header = ['frame'] + [f'{coord}_{i}' for i in range(21) for coord in ('x', 'y', 'z')] + ['frame_rate', 'frame_width', 'frame_height']\n",
    "                    writer.writerow(header)\n",
    "\n",
    "                    # write data\n",
    "                    for i, frame_data in enumerate(landmarks_seq):\n",
    "                        writer.writerow([i] + frame_data + [frame_rate, frame_width, frame_height])\n",
    "                        \n",
    "                print(f\"Saved {len(landmarks_seq)} frames to {output_file}\")\n",
    "        elif (key == 27) or (key == ord('q')):  # ESC key to exit\n",
    "            break\n",
    "\n",
    "    cap.release()\n",
    "    cv2.destroyAllWindows()\n",
    "\n",
    "record_hand_landmarks()"
   ]
  },
  {
   "cell_type": "code",
   "execution_count": 9,
   "metadata": {},
   "outputs": [
    {
     "name": "stdout",
     "output_type": "stream",
     "text": [
      "Combined dataset saved to ./data/test1.csv\n"
     ]
    }
   ],
   "source": [
    "import pandas as pd \n",
    "import os \n",
    "from sklearn.preprocessing import StandardScaler\n",
    "\n",
    "\n",
    "# aggergate the csv files to 1\n",
    "\n",
    "\n",
    "# input_dir = \"./data/dataset4\"\n",
    "input_dir = \"./data/test\"\n",
    "\n",
    "data_frames = []\n",
    "gesture_index = 0\n",
    "\n",
    "\n",
    "for file_name in os.listdir(input_dir):\n",
    "    if file_name.endswith('.csv'):\n",
    "        file_path = os.path.join(input_dir, file_name)\n",
    "        df = pd.read_csv(file_path)\n",
    "        \n",
    "        # Extract gesture action and index from the file name\n",
    "        gesture_action = file_name.split(\"_\")[0]\n",
    "        gesture_index = int(file_name.split(\"_\")[1].split(\".\")[0])\n",
    "\n",
    "        # Add gesture action and index to the DataFrame\n",
    "        df['gesture'] = gesture_action\n",
    "        df['gesture_index'] = gesture_index\n",
    "        \n",
    "        df.sort_values(by=\"frame\", inplace=True)\n",
    "        \n",
    "        data_frames.append(df)\n",
    "\n",
    "        \n",
    " \n",
    "\n",
    "# combine all dataframes\n",
    "all_data = pd.concat(data_frames, ignore_index=True)\n",
    "grouped_data = all_data.groupby(['gesture_index', 'frame'])\n",
    "\n",
    "# Normalize the landmark coordinates (excluding frame, gesture, frame_rate, frame_width, frame_height)\n",
    "landmark_cols = [col for col in all_data.columns if col not in ['frame', 'gesture', 'frame_rate', 'frame_width', 'frame_height']]\n",
    "scaler = StandardScaler()\n",
    "all_data[landmark_cols] = scaler.fit_transform(all_data[landmark_cols])\n",
    "\n",
    "# Feature Engineering: Example - Calculating distances between specific points\n",
    "# Example: distance between point 0 and point 1\n",
    "all_data['distance_0_1'] = ((all_data['x_0'] - all_data['x_1'])**2 + \n",
    "                            (all_data['y_0'] - all_data['y_1'])**2 + \n",
    "                            (all_data['z_0'] - all_data['z_1'])**2) ** 0.5\n",
    "\n",
    "\n",
    "\n",
    "# Save the combined and processed DataFrame to a new CSV file\n",
    "# output_file = './data/combined_dataset.csv'\n",
    "output_file = './data/test1.csv'\n",
    "all_data.to_csv(output_file, index=False)\n",
    "print(f\"Combined dataset saved to {output_file}\")\n",
    "\n",
    "\n"
   ]
  },
  {
   "cell_type": "code",
   "execution_count": 19,
   "metadata": {},
   "outputs": [
    {
     "name": "stdout",
     "output_type": "stream",
     "text": [
      "Epoch 1/10\n"
     ]
    },
    {
     "name": "stderr",
     "output_type": "stream",
     "text": [
      "c:\\Users\\Gen3r\\Documents\\capstone\\ml_model\\lib\\site-packages\\keras\\src\\layers\\rnn\\rnn.py:204: UserWarning: Do not pass an `input_shape`/`input_dim` argument to a layer. When using Sequential models, prefer using an `Input(shape)` object as the first layer in the model instead.\n",
      "  super().__init__(**kwargs)\n"
     ]
    },
    {
     "name": "stdout",
     "output_type": "stream",
     "text": [
      "\u001b[1m10/10\u001b[0m \u001b[32m━━━━━━━━━━━━━━━━━━━━\u001b[0m\u001b[37m\u001b[0m \u001b[1m3s\u001b[0m 35ms/step - accuracy: 0.5999 - loss: 0.6673 - val_accuracy: 0.4868 - val_loss: 0.6561\n",
      "Epoch 2/10\n",
      "\u001b[1m10/10\u001b[0m \u001b[32m━━━━━━━━━━━━━━━━━━━━\u001b[0m\u001b[37m\u001b[0m \u001b[1m0s\u001b[0m 8ms/step - accuracy: 0.6123 - loss: 0.6077 - val_accuracy: 0.7105 - val_loss: 0.5851\n",
      "Epoch 3/10\n",
      "\u001b[1m10/10\u001b[0m \u001b[32m━━━━━━━━━━━━━━━━━━━━\u001b[0m\u001b[37m\u001b[0m \u001b[1m0s\u001b[0m 6ms/step - accuracy: 0.8305 - loss: 0.5557 - val_accuracy: 0.6974 - val_loss: 0.5456\n",
      "Epoch 4/10\n",
      "\u001b[1m10/10\u001b[0m \u001b[32m━━━━━━━━━━━━━━━━━━━━\u001b[0m\u001b[37m\u001b[0m \u001b[1m0s\u001b[0m 8ms/step - accuracy: 0.8895 - loss: 0.4955 - val_accuracy: 0.8553 - val_loss: 0.4782\n",
      "Epoch 5/10\n",
      "\u001b[1m10/10\u001b[0m \u001b[32m━━━━━━━━━━━━━━━━━━━━\u001b[0m\u001b[37m\u001b[0m \u001b[1m0s\u001b[0m 10ms/step - accuracy: 0.9350 - loss: 0.4240 - val_accuracy: 0.8684 - val_loss: 0.4387\n",
      "Epoch 6/10\n",
      "\u001b[1m10/10\u001b[0m \u001b[32m━━━━━━━━━━━━━━━━━━━━\u001b[0m\u001b[37m\u001b[0m \u001b[1m0s\u001b[0m 9ms/step - accuracy: 0.9565 - loss: 0.3856 - val_accuracy: 0.8947 - val_loss: 0.3886\n",
      "Epoch 7/10\n",
      "\u001b[1m10/10\u001b[0m \u001b[32m━━━━━━━━━━━━━━━━━━━━\u001b[0m\u001b[37m\u001b[0m \u001b[1m0s\u001b[0m 7ms/step - accuracy: 0.9609 - loss: 0.3408 - val_accuracy: 0.9079 - val_loss: 0.3443\n",
      "Epoch 8/10\n",
      "\u001b[1m10/10\u001b[0m \u001b[32m━━━━━━━━━━━━━━━━━━━━\u001b[0m\u001b[37m\u001b[0m \u001b[1m0s\u001b[0m 8ms/step - accuracy: 0.9606 - loss: 0.3184 - val_accuracy: 0.8947 - val_loss: 0.3393\n",
      "Epoch 9/10\n",
      "\u001b[1m10/10\u001b[0m \u001b[32m━━━━━━━━━━━━━━━━━━━━\u001b[0m\u001b[37m\u001b[0m \u001b[1m0s\u001b[0m 9ms/step - accuracy: 0.9591 - loss: 0.2940 - val_accuracy: 0.9211 - val_loss: 0.2906\n",
      "Epoch 10/10\n",
      "\u001b[1m10/10\u001b[0m \u001b[32m━━━━━━━━━━━━━━━━━━━━\u001b[0m\u001b[37m\u001b[0m \u001b[1m0s\u001b[0m 9ms/step - accuracy: 0.9815 - loss: 0.2410 - val_accuracy: 0.9079 - val_loss: 0.3110\n",
      "\u001b[1m3/3\u001b[0m \u001b[32m━━━━━━━━━━━━━━━━━━━━\u001b[0m\u001b[37m\u001b[0m \u001b[1m0s\u001b[0m 4ms/step - accuracy: 0.8954 - loss: 0.3296 \n",
      "Test Accuracy: 0.9078947305679321\n"
     ]
    }
   ],
   "source": [
    "from sklearn.model_selection import train_test_split\n",
    "from keras import layers, models\n",
    "import pandas as pd\n",
    "\n",
    "# trying to reshape the data into a temporal model\n",
    "# reshaping using LSTM model \n",
    "\n",
    "input_dataframe = pd.read_csv(\"data/combined_dataset.csv\")\n",
    "features = [col for col in input_dataframe.columns if col not in [\"frame\", \"gesture\"]]\n",
    "\n",
    "X = input_dataframe[features].values\n",
    "y, class_labels = pd.factorize(input_dataframe['gesture'])\n",
    "\n",
    "# Reshape X for LSTM input (samples, timesteps, features)\n",
    "X_reshaped = X.reshape((X.shape[0], 1, X.shape[1]))\n",
    "\n",
    "# Split into training and validation sets\n",
    "X_train, X_val, y_train, y_val = train_test_split(X_reshaped, y, test_size=0.2, random_state=42)\n",
    "\n",
    "\n",
    "\n",
    "model = models.Sequential([\n",
    "    layers.LSTM(128, input_shape=(1, len(features))),\n",
    "    layers.Dense(len(class_labels), activation='softmax')\n",
    "])\n",
    "\n",
    "\n",
    "model.compile(optimizer='adam', loss='sparse_categorical_crossentropy', metrics=['accuracy'])\n",
    "\n",
    "\n",
    "history = model.fit(X_train, y_train, validation_data=(X_val, y_val), epochs=10, batch_size=32)\n",
    "test_loss, test_acc = model.evaluate(X_val, y_val)\n",
    "print(f'Test Accuracy: {test_acc}')\n",
    "\n",
    "\n",
    "# model.save(\"data/saved_mode.h5\")\n",
    "\n",
    "\n",
    "\n",
    "\n",
    "\n"
   ]
  },
  {
   "cell_type": "code",
   "execution_count": 22,
   "metadata": {},
   "outputs": [
    {
     "name": "stdout",
     "output_type": "stream",
     "text": [
      "\u001b[1m3/3\u001b[0m \u001b[32m━━━━━━━━━━━━━━━━━━━━\u001b[0m\u001b[37m\u001b[0m \u001b[1m0s\u001b[0m 3ms/step \n"
     ]
    },
    {
     "data": {
      "image/png": "[encoded data removed]",
      "text/plain": [
       "<Figure size 800x600 with 2 Axes>"
      ]
     },
     "metadata": {},
     "output_type": "display_data"
    }
   ],
   "source": [
    "from sklearn.metrics import confusion_matrix\n",
    "import matplotlib.pyplot as plt\n",
    "import seaborn as sns\n",
    "\n",
    "# testing/evaluation\n",
    "# Predict probabilities using the model on validation set\n",
    "y_pred_probs = model.predict(X_val)\n",
    "\n",
    "# Convert probabilities to class labels\n",
    "y_pred = np.argmax(y_pred_probs, axis=1)\n",
    "\n",
    "# Generate confusion matrix\n",
    "cm = confusion_matrix(y_val, y_pred, labels=range(len(class_labels)))\n",
    "\n",
    "# Plot confusion matrix\n",
    "plt.figure(figsize=(8, 6))\n",
    "sns.heatmap(cm, annot=True, cmap='Blues', xticklabels=class_labels, yticklabels=class_labels)\n",
    "plt.xlabel('Predicted')\n",
    "plt.ylabel('True')\n",
    "plt.title('Confusion Matrix')\n",
    "plt.show()"
   ]
  },
  {
   "cell_type": "code",
   "execution_count": 31,
   "metadata": {},
   "outputs": [
    {
     "name": "stdout",
     "output_type": "stream",
     "text": [
      "Class labels saved successfully.\n"
     ]
    }
   ],
   "source": [
    "# save the class labels\n",
    "# Convert to DataFrame and save to CSV\n",
    "class_labels_df = pd.DataFrame({'gesture': class_labels})\n",
    "class_labels_df.to_csv('data/class_labels.csv', index=False)\n",
    "\n",
    "print(\"Class labels saved successfully.\")"
   ]
  },
  {
   "cell_type": "code",
   "execution_count": 23,
   "metadata": {},
   "outputs": [
    {
     "name": "stdout",
     "output_type": "stream",
     "text": [
      "\u001b[1m2/2\u001b[0m \u001b[32m━━━━━━━━━━━━━━━━━━━━\u001b[0m\u001b[37m\u001b[0m \u001b[1m0s\u001b[0m 9ms/step \n",
      "['SLEEPING', 'SLEEPING', 'WAVING', 'SLEEPING', 'WAVING', 'WAVING', 'WAVING', 'WAVING', 'WAVING', 'WAVING', 'SLEEPING', 'WAVING', 'WAVING', 'WAVING', 'WAVING', 'WAVING', 'WAVING', 'WAVING', 'WAVING', 'WAVING', 'WAVING', 'WAVING', 'WAVING', 'WAVING', 'WAVING', 'WAVING', 'WAVING', 'WAVING', 'WAVING', 'WAVING', 'WAVING', 'WAVING', 'WAVING', 'WAVING', 'WAVING', 'WAVING', 'WAVING', 'WAVING', 'WAVING', 'WAVING', 'WAVING', 'WAVING', 'WAVING', 'WAVING', 'WAVING', 'WAVING', 'SLEEPING']\n",
      "47\n"
     ]
    },
    {
     "data": {
      "image/png": "[encoded data removed]",
      "text/plain": [
       "<Figure size 1000x800 with 2 Axes>"
      ]
     },
     "metadata": {},
     "output_type": "display_data"
    }
   ],
   "source": [
    "import matplotlib.pyplot as plt\n",
    "\n",
    "# # Plot training & validation accuracy values\n",
    "# plt.plot(history.history['accuracy'])\n",
    "# plt.plot(history.history['val_accuracy'])\n",
    "# plt.title('Model Accuracy')\n",
    "# plt.xlabel('Epoch')\n",
    "# plt.ylabel('Accuracy')\n",
    "# plt.legend(['Train', 'Validation'], loc='upper left')\n",
    "# plt.show()\n",
    "\n",
    "# # Plot training & validation loss values\n",
    "# plt.plot(history.history['loss'])\n",
    "# plt.plot(history.history['val_loss'])\n",
    "# plt.title('Model Loss')\n",
    "# plt.xlabel('Epoch')\n",
    "# plt.ylabel('Loss')\n",
    "# plt.legend(['Train', 'Validation'], loc='upper left')\n",
    "# plt.show()\n",
    "\n",
    "new_data = pd.read_csv(\"data/test1.csv\")\n",
    "\n",
    "\n",
    "# Assuming 'frame' and 'gesture' columns are not in the new data\n",
    "features = [col for col in new_data.columns if col not in ['frame', 'gesture']]\n",
    "\n",
    "# Reshape for LSTM input (samples, timesteps, features)\n",
    "X_new = new_data[features].values.reshape((new_data.shape[0], 1, len(features)))\n",
    "\n",
    "\n",
    "predictions = model.predict(X_new)\n",
    "predicted_labels = [class_labels[np.argmax(pred)] for pred in predictions]\n",
    "print(predicted_labels)\n",
    "\n",
    "\n",
    "\n",
    "# confusion matrix to see if model is making errors\n",
    "from sklearn.metrics import confusion_matrix\n",
    "import seaborn as sns\n",
    "import matplotlib.pyplot as plt\n",
    "\n",
    "print(len(predicted_labels))\n",
    "ground_truth_labels = ['WAVING'] * 47 # has to do with how many labels are there in a run\n",
    "\n",
    "# Generate confusion matrix\n",
    "cm = confusion_matrix(ground_truth_labels, predicted_labels, labels=class_labels)\n",
    "\n",
    "# Plot confusion matrix\n",
    "plt.figure(figsize=(10, 8))\n",
    "sns.heatmap(cm, annot=True, fmt='d', cmap='Blues', xticklabels=class_labels, yticklabels=class_labels)\n",
    "plt.xlabel('Predicted')\n",
    "plt.ylabel('Actual')\n",
    "plt.title('Confusion Matrix')\n",
    "plt.show()"
   ]
  }
 ],
 "metadata": {
  "kernelspec": {
   "display_name": "ml_model",
   "language": "python",
   "name": "python3"
  },
  "language_info": {
   "codemirror_mode": {
    "name": "ipython",
    "version": 3
   },
   "file_extension": ".py",
   "mimetype": "text/x-python",
   "name": "python",
   "nbconvert_exporter": "python",
   "pygments_lexer": "ipython3",
   "version": "3.10.6"
  }
 },
 "nbformat": 4,
 "nbformat_minor": 2
}
